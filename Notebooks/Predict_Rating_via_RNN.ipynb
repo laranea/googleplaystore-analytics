{
  "nbformat": 4,
  "nbformat_minor": 0,
  "metadata": {
    "colab": {
      "name": "Predict Rating via RNN.ipynb",
      "provenance": [],
      "collapsed_sections": []
    },
    "kernelspec": {
      "name": "python3",
      "display_name": "Python 3"
    },
    "accelerator": "GPU"
  },
  "cells": [
    {
      "cell_type": "code",
      "metadata": {
        "colab_type": "code",
        "id": "PCbWWDNkgLGa",
        "colab": {}
      },
      "source": [
        "#offset.dtype"
      ],
      "execution_count": 0,
      "outputs": []
    },
    {
      "cell_type": "code",
      "metadata": {
        "id": "GjwyjcxSUUMv",
        "colab_type": "code",
        "outputId": "87be5c82-8dcd-4745-967d-94157f109144",
        "colab": {
          "base_uri": "https://localhost:8080/",
          "height": 118
        }
      },
      "source": [
        "import pandas as pd\n",
        "import numpy as np\n",
        "\n",
        "df = pd.read_csv(\"https://raw.githubusercontent.com/lyqht/googleplaystore-analytics/master/data/reviews_joined.csv\", index_col=0)\n",
        "df.dropna(inplace=True)\n",
        "df.reset_index(inplace=True)\n",
        "df.drop(\"index\", axis=1,inplace=True)\n",
        "df.columns"
      ],
      "execution_count": 0,
      "outputs": [
        {
          "output_type": "execute_result",
          "data": {
            "text/plain": [
              "Index(['App', 'Review', 'Preprocessed_Review', 'Category', 'Average_Rating',\n",
              "       'Rating_Label', 'Num_Reviews', 'Size', 'Installs', 'Type', 'Price',\n",
              "       'Content Rating', 'Genres', 'Tokens', 'Sentiment', 'Neutral Proportion',\n",
              "       'Positive Proportion', 'Negative Proportion', 'Compound Score',\n",
              "       'Sentiment_Rating'],\n",
              "      dtype='object')"
            ]
          },
          "metadata": {
            "tags": []
          },
          "execution_count": 58
        }
      ]
    },
    {
      "cell_type": "code",
      "metadata": {
        "id": "00dNXK35UikF",
        "colab_type": "code",
        "colab": {}
      },
      "source": [
        "#df.head(2)"
      ],
      "execution_count": 0,
      "outputs": []
    },
    {
      "cell_type": "code",
      "metadata": {
        "id": "CvQUnYqxUmu0",
        "colab_type": "code",
        "outputId": "3cab47eb-631c-4398-adec-b95331b7c581",
        "colab": {
          "base_uri": "https://localhost:8080/",
          "height": 50
        }
      },
      "source": [
        "print(\"Number of apps that have reviews\")\n",
        "df[\"App\"].nunique()"
      ],
      "execution_count": 0,
      "outputs": [
        {
          "output_type": "stream",
          "text": [
            "Number of apps that have reviews\n"
          ],
          "name": "stdout"
        },
        {
          "output_type": "execute_result",
          "data": {
            "text/plain": [
              "531"
            ]
          },
          "metadata": {
            "tags": []
          },
          "execution_count": 23
        }
      ]
    },
    {
      "cell_type": "code",
      "metadata": {
        "id": "BybX1fRwUntH",
        "colab_type": "code",
        "outputId": "e248be27-5ffb-438b-a4fd-52341bc3fc73",
        "colab": {
          "base_uri": "https://localhost:8080/",
          "height": 50
        }
      },
      "source": [
        "num_reviews_per_app = list(df.groupby([\"App\",\"Average_Rating\"]).size())\n",
        "min_num_reviews = int(np.percentile(num_reviews_per_app,25))\n",
        "print(f\"25th percentile of the count of reviews :\", min_num_reviews)\n",
        "print(len(num_reviews_per_app))"
      ],
      "execution_count": 0,
      "outputs": [
        {
          "output_type": "stream",
          "text": [
            "25th percentile of the count of reviews : 28\n",
            "535\n"
          ],
          "name": "stdout"
        }
      ]
    },
    {
      "cell_type": "code",
      "metadata": {
        "id": "nIV-6PzeUqLu",
        "colab_type": "code",
        "outputId": "38e9b99d-8d24-46e3-c43b-62caf3446907",
        "colab": {
          "base_uri": "https://localhost:8080/",
          "height": 101
        }
      },
      "source": [
        "num_reviews_per_app = 50\n",
        "print(\"Number of Apps that have at least \",num_reviews_per_app, \"reviews\")\n",
        "value_counts = df.App.value_counts()\n",
        "to_keep = value_counts[value_counts >= num_reviews_per_app].index\n",
        "print(len(to_keep))\n",
        "\n",
        "df = df[df.App.isin(to_keep)]\n",
        "\n",
        "df.head(2)\n",
        "print(df.size)\n",
        "print(\"After removing duplicate reviews\")\n",
        "df.drop_duplicates(subset=[\"Preprocessed_Review\",\"App\"],inplace=True, keep=\"first\")\n",
        "print(df.size)"
      ],
      "execution_count": 0,
      "outputs": [
        {
          "output_type": "stream",
          "text": [
            "Number of Apps that have at least  50 reviews\n",
            "104\n",
            "246820\n",
            "After removing duplicate reviews\n",
            "114060\n"
          ],
          "name": "stdout"
        }
      ]
    },
    {
      "cell_type": "markdown",
      "metadata": {
        "id": "IHIxeERmUhOt",
        "colab_type": "text"
      },
      "source": [
        "Create Dummies Variable for the Category\n"
      ]
    },
    {
      "cell_type": "code",
      "metadata": {
        "id": "BcEaneHFTV8K",
        "colab_type": "code",
        "outputId": "db3abcf1-a11e-46a4-de59-d7ce683f62b3",
        "colab": {
          "base_uri": "https://localhost:8080/",
          "height": 618
        }
      },
      "source": [
        "df_dummies = pd.get_dummies(df, prefix_sep='_', drop_first=True,columns = ['Category'])\n",
        "df_dummies.head()"
      ],
      "execution_count": 0,
      "outputs": [
        {
          "output_type": "execute_result",
          "data": {
            "text/html": [
              "<div>\n",
              "<style scoped>\n",
              "    .dataframe tbody tr th:only-of-type {\n",
              "        vertical-align: middle;\n",
              "    }\n",
              "\n",
              "    .dataframe tbody tr th {\n",
              "        vertical-align: top;\n",
              "    }\n",
              "\n",
              "    .dataframe thead th {\n",
              "        text-align: right;\n",
              "    }\n",
              "</style>\n",
              "<table border=\"1\" class=\"dataframe\">\n",
              "  <thead>\n",
              "    <tr style=\"text-align: right;\">\n",
              "      <th></th>\n",
              "      <th>App</th>\n",
              "      <th>Review</th>\n",
              "      <th>Preprocessed_Review</th>\n",
              "      <th>Average_Rating</th>\n",
              "      <th>Rating_Label</th>\n",
              "      <th>Num_Reviews</th>\n",
              "      <th>Size</th>\n",
              "      <th>Installs</th>\n",
              "      <th>Type</th>\n",
              "      <th>Price</th>\n",
              "      <th>Content Rating</th>\n",
              "      <th>Genres</th>\n",
              "      <th>Tokens</th>\n",
              "      <th>Sentiment</th>\n",
              "      <th>Neutral Proportion</th>\n",
              "      <th>Positive Proportion</th>\n",
              "      <th>Negative Proportion</th>\n",
              "      <th>Compound Score</th>\n",
              "      <th>Sentiment_Rating</th>\n",
              "      <th>Category_BEAUTY</th>\n",
              "      <th>Category_BUSINESS</th>\n",
              "      <th>Category_COMMUNICATION</th>\n",
              "      <th>Category_DATING</th>\n",
              "      <th>Category_EDUCATION</th>\n",
              "      <th>Category_ENTERTAINMENT</th>\n",
              "      <th>Category_FAMILY</th>\n",
              "      <th>Category_FINANCE</th>\n",
              "      <th>Category_FOOD_AND_DRINK</th>\n",
              "      <th>Category_GAME</th>\n",
              "      <th>Category_HEALTH_AND_FITNESS</th>\n",
              "      <th>Category_LIFESTYLE</th>\n",
              "      <th>Category_MEDICAL</th>\n",
              "      <th>Category_NEWS_AND_MAGAZINES</th>\n",
              "      <th>Category_PERSONALIZATION</th>\n",
              "      <th>Category_PHOTOGRAPHY</th>\n",
              "      <th>Category_PRODUCTIVITY</th>\n",
              "      <th>Category_SHOPPING</th>\n",
              "      <th>Category_SOCIAL</th>\n",
              "      <th>Category_SPORTS</th>\n",
              "      <th>Category_TOOLS</th>\n",
              "      <th>Category_TRAVEL_AND_LOCAL</th>\n",
              "    </tr>\n",
              "  </thead>\n",
              "  <tbody>\n",
              "    <tr>\n",
              "      <th>0</th>\n",
              "      <td>10 Best Foods for You</td>\n",
              "      <td>I like eat delicious food. That's I'm cooking ...</td>\n",
              "      <td>like delicious food cooking food case best foo...</td>\n",
              "      <td>4.0</td>\n",
              "      <td>5</td>\n",
              "      <td>2490</td>\n",
              "      <td>3800000.0</td>\n",
              "      <td>500000</td>\n",
              "      <td>Free</td>\n",
              "      <td>0</td>\n",
              "      <td>Everyone</td>\n",
              "      <td>Health &amp; Fitness</td>\n",
              "      <td>['i', 'like', 'eat', 'delicious', 'food', 'tha...</td>\n",
              "      <td>Positive</td>\n",
              "      <td>0.466</td>\n",
              "      <td>0.534</td>\n",
              "      <td>0.0</td>\n",
              "      <td>0.9531</td>\n",
              "      <td>4.9062</td>\n",
              "      <td>0</td>\n",
              "      <td>0</td>\n",
              "      <td>0</td>\n",
              "      <td>0</td>\n",
              "      <td>0</td>\n",
              "      <td>0</td>\n",
              "      <td>0</td>\n",
              "      <td>0</td>\n",
              "      <td>0</td>\n",
              "      <td>0</td>\n",
              "      <td>1</td>\n",
              "      <td>0</td>\n",
              "      <td>0</td>\n",
              "      <td>0</td>\n",
              "      <td>0</td>\n",
              "      <td>0</td>\n",
              "      <td>0</td>\n",
              "      <td>0</td>\n",
              "      <td>0</td>\n",
              "      <td>0</td>\n",
              "      <td>0</td>\n",
              "      <td>0</td>\n",
              "    </tr>\n",
              "    <tr>\n",
              "      <th>1</th>\n",
              "      <td>10 Best Foods for You</td>\n",
              "      <td>This help eating healthy exercise regular basis</td>\n",
              "      <td>help eating healthy exercise regular basis</td>\n",
              "      <td>4.0</td>\n",
              "      <td>4</td>\n",
              "      <td>2490</td>\n",
              "      <td>3800000.0</td>\n",
              "      <td>500000</td>\n",
              "      <td>Free</td>\n",
              "      <td>0</td>\n",
              "      <td>Everyone</td>\n",
              "      <td>Health &amp; Fitness</td>\n",
              "      <td>['this', 'help', 'eating', 'healthy', 'exercis...</td>\n",
              "      <td>Positive</td>\n",
              "      <td>0.481</td>\n",
              "      <td>0.519</td>\n",
              "      <td>0.0</td>\n",
              "      <td>0.6597</td>\n",
              "      <td>4.3194</td>\n",
              "      <td>0</td>\n",
              "      <td>0</td>\n",
              "      <td>0</td>\n",
              "      <td>0</td>\n",
              "      <td>0</td>\n",
              "      <td>0</td>\n",
              "      <td>0</td>\n",
              "      <td>0</td>\n",
              "      <td>0</td>\n",
              "      <td>0</td>\n",
              "      <td>1</td>\n",
              "      <td>0</td>\n",
              "      <td>0</td>\n",
              "      <td>0</td>\n",
              "      <td>0</td>\n",
              "      <td>0</td>\n",
              "      <td>0</td>\n",
              "      <td>0</td>\n",
              "      <td>0</td>\n",
              "      <td>0</td>\n",
              "      <td>0</td>\n",
              "      <td>0</td>\n",
              "    </tr>\n",
              "    <tr>\n",
              "      <th>2</th>\n",
              "      <td>10 Best Foods for You</td>\n",
              "      <td>Works great especially going grocery store</td>\n",
              "      <td>work great especially going grocery store</td>\n",
              "      <td>4.0</td>\n",
              "      <td>4</td>\n",
              "      <td>2490</td>\n",
              "      <td>3800000.0</td>\n",
              "      <td>500000</td>\n",
              "      <td>Free</td>\n",
              "      <td>0</td>\n",
              "      <td>Everyone</td>\n",
              "      <td>Health &amp; Fitness</td>\n",
              "      <td>['work', 'great', 'especially', 'going', 'groc...</td>\n",
              "      <td>Positive</td>\n",
              "      <td>0.549</td>\n",
              "      <td>0.451</td>\n",
              "      <td>0.0</td>\n",
              "      <td>0.6249</td>\n",
              "      <td>4.2498</td>\n",
              "      <td>0</td>\n",
              "      <td>0</td>\n",
              "      <td>0</td>\n",
              "      <td>0</td>\n",
              "      <td>0</td>\n",
              "      <td>0</td>\n",
              "      <td>0</td>\n",
              "      <td>0</td>\n",
              "      <td>0</td>\n",
              "      <td>0</td>\n",
              "      <td>1</td>\n",
              "      <td>0</td>\n",
              "      <td>0</td>\n",
              "      <td>0</td>\n",
              "      <td>0</td>\n",
              "      <td>0</td>\n",
              "      <td>0</td>\n",
              "      <td>0</td>\n",
              "      <td>0</td>\n",
              "      <td>0</td>\n",
              "      <td>0</td>\n",
              "      <td>0</td>\n",
              "    </tr>\n",
              "    <tr>\n",
              "      <th>3</th>\n",
              "      <td>10 Best Foods for You</td>\n",
              "      <td>Best idea us</td>\n",
              "      <td>best idea</td>\n",
              "      <td>4.0</td>\n",
              "      <td>4</td>\n",
              "      <td>2490</td>\n",
              "      <td>3800000.0</td>\n",
              "      <td>500000</td>\n",
              "      <td>Free</td>\n",
              "      <td>0</td>\n",
              "      <td>Everyone</td>\n",
              "      <td>Health &amp; Fitness</td>\n",
              "      <td>['best', 'idea', 'u']</td>\n",
              "      <td>Positive</td>\n",
              "      <td>0.323</td>\n",
              "      <td>0.677</td>\n",
              "      <td>0.0</td>\n",
              "      <td>0.6369</td>\n",
              "      <td>4.2738</td>\n",
              "      <td>0</td>\n",
              "      <td>0</td>\n",
              "      <td>0</td>\n",
              "      <td>0</td>\n",
              "      <td>0</td>\n",
              "      <td>0</td>\n",
              "      <td>0</td>\n",
              "      <td>0</td>\n",
              "      <td>0</td>\n",
              "      <td>0</td>\n",
              "      <td>1</td>\n",
              "      <td>0</td>\n",
              "      <td>0</td>\n",
              "      <td>0</td>\n",
              "      <td>0</td>\n",
              "      <td>0</td>\n",
              "      <td>0</td>\n",
              "      <td>0</td>\n",
              "      <td>0</td>\n",
              "      <td>0</td>\n",
              "      <td>0</td>\n",
              "      <td>0</td>\n",
              "    </tr>\n",
              "    <tr>\n",
              "      <th>4</th>\n",
              "      <td>10 Best Foods for You</td>\n",
              "      <td>Best way</td>\n",
              "      <td>best</td>\n",
              "      <td>4.0</td>\n",
              "      <td>4</td>\n",
              "      <td>2490</td>\n",
              "      <td>3800000.0</td>\n",
              "      <td>500000</td>\n",
              "      <td>Free</td>\n",
              "      <td>0</td>\n",
              "      <td>Everyone</td>\n",
              "      <td>Health &amp; Fitness</td>\n",
              "      <td>['best', 'way']</td>\n",
              "      <td>Positive</td>\n",
              "      <td>0.192</td>\n",
              "      <td>0.808</td>\n",
              "      <td>0.0</td>\n",
              "      <td>0.6369</td>\n",
              "      <td>4.2738</td>\n",
              "      <td>0</td>\n",
              "      <td>0</td>\n",
              "      <td>0</td>\n",
              "      <td>0</td>\n",
              "      <td>0</td>\n",
              "      <td>0</td>\n",
              "      <td>0</td>\n",
              "      <td>0</td>\n",
              "      <td>0</td>\n",
              "      <td>0</td>\n",
              "      <td>1</td>\n",
              "      <td>0</td>\n",
              "      <td>0</td>\n",
              "      <td>0</td>\n",
              "      <td>0</td>\n",
              "      <td>0</td>\n",
              "      <td>0</td>\n",
              "      <td>0</td>\n",
              "      <td>0</td>\n",
              "      <td>0</td>\n",
              "      <td>0</td>\n",
              "      <td>0</td>\n",
              "    </tr>\n",
              "  </tbody>\n",
              "</table>\n",
              "</div>"
            ],
            "text/plain": [
              "                     App  ... Category_TRAVEL_AND_LOCAL\n",
              "0  10 Best Foods for You  ...                         0\n",
              "1  10 Best Foods for You  ...                         0\n",
              "2  10 Best Foods for You  ...                         0\n",
              "3  10 Best Foods for You  ...                         0\n",
              "4  10 Best Foods for You  ...                         0\n",
              "\n",
              "[5 rows x 41 columns]"
            ]
          },
          "metadata": {
            "tags": []
          },
          "execution_count": 26
        }
      ]
    },
    {
      "cell_type": "code",
      "metadata": {
        "id": "PCbf9s7sU4vm",
        "colab_type": "code",
        "outputId": "46d7d8ed-887d-4f07-c87d-d41aecce02fb",
        "colab": {
          "base_uri": "https://localhost:8080/",
          "height": 918
        }
      },
      "source": [
        "# import labelencoder\n",
        "from sklearn.preprocessing import LabelEncoder\n",
        "# instantiate labelencoder object\n",
        "le = LabelEncoder()\n",
        "# apply le on categorical feature columns\n",
        "#label the Category in different numbers in the same column \n",
        "df_Multi_Category = df\n",
        "df_Multi_Category.head()\n",
        "df_Multi_Category['Category'].head()\n",
        "df_Multi_Category['Category'] = le.fit_transform(df_Multi_Category['Category'])\n",
        "df_Multi_Category.head(10)"
      ],
      "execution_count": 0,
      "outputs": [
        {
          "output_type": "execute_result",
          "data": {
            "text/html": [
              "<div>\n",
              "<style scoped>\n",
              "    .dataframe tbody tr th:only-of-type {\n",
              "        vertical-align: middle;\n",
              "    }\n",
              "\n",
              "    .dataframe tbody tr th {\n",
              "        vertical-align: top;\n",
              "    }\n",
              "\n",
              "    .dataframe thead th {\n",
              "        text-align: right;\n",
              "    }\n",
              "</style>\n",
              "<table border=\"1\" class=\"dataframe\">\n",
              "  <thead>\n",
              "    <tr style=\"text-align: right;\">\n",
              "      <th></th>\n",
              "      <th>App</th>\n",
              "      <th>Review</th>\n",
              "      <th>Preprocessed_Review</th>\n",
              "      <th>Category</th>\n",
              "      <th>Average_Rating</th>\n",
              "      <th>Rating_Label</th>\n",
              "      <th>Num_Reviews</th>\n",
              "      <th>Size</th>\n",
              "      <th>Installs</th>\n",
              "      <th>Type</th>\n",
              "      <th>Price</th>\n",
              "      <th>Content Rating</th>\n",
              "      <th>Genres</th>\n",
              "      <th>Tokens</th>\n",
              "      <th>Sentiment</th>\n",
              "      <th>Neutral Proportion</th>\n",
              "      <th>Positive Proportion</th>\n",
              "      <th>Negative Proportion</th>\n",
              "      <th>Compound Score</th>\n",
              "      <th>Sentiment_Rating</th>\n",
              "    </tr>\n",
              "  </thead>\n",
              "  <tbody>\n",
              "    <tr>\n",
              "      <th>0</th>\n",
              "      <td>10 Best Foods for You</td>\n",
              "      <td>I like eat delicious food. That's I'm cooking ...</td>\n",
              "      <td>like delicious food cooking food case best foo...</td>\n",
              "      <td>11</td>\n",
              "      <td>4.0</td>\n",
              "      <td>5</td>\n",
              "      <td>2490</td>\n",
              "      <td>3800000.0</td>\n",
              "      <td>500000</td>\n",
              "      <td>Free</td>\n",
              "      <td>0</td>\n",
              "      <td>Everyone</td>\n",
              "      <td>Health &amp; Fitness</td>\n",
              "      <td>['i', 'like', 'eat', 'delicious', 'food', 'tha...</td>\n",
              "      <td>Positive</td>\n",
              "      <td>0.466</td>\n",
              "      <td>0.534</td>\n",
              "      <td>0.0</td>\n",
              "      <td>0.9531</td>\n",
              "      <td>4.9062</td>\n",
              "    </tr>\n",
              "    <tr>\n",
              "      <th>1</th>\n",
              "      <td>10 Best Foods for You</td>\n",
              "      <td>This help eating healthy exercise regular basis</td>\n",
              "      <td>help eating healthy exercise regular basis</td>\n",
              "      <td>11</td>\n",
              "      <td>4.0</td>\n",
              "      <td>4</td>\n",
              "      <td>2490</td>\n",
              "      <td>3800000.0</td>\n",
              "      <td>500000</td>\n",
              "      <td>Free</td>\n",
              "      <td>0</td>\n",
              "      <td>Everyone</td>\n",
              "      <td>Health &amp; Fitness</td>\n",
              "      <td>['this', 'help', 'eating', 'healthy', 'exercis...</td>\n",
              "      <td>Positive</td>\n",
              "      <td>0.481</td>\n",
              "      <td>0.519</td>\n",
              "      <td>0.0</td>\n",
              "      <td>0.6597</td>\n",
              "      <td>4.3194</td>\n",
              "    </tr>\n",
              "    <tr>\n",
              "      <th>2</th>\n",
              "      <td>10 Best Foods for You</td>\n",
              "      <td>Works great especially going grocery store</td>\n",
              "      <td>work great especially going grocery store</td>\n",
              "      <td>11</td>\n",
              "      <td>4.0</td>\n",
              "      <td>4</td>\n",
              "      <td>2490</td>\n",
              "      <td>3800000.0</td>\n",
              "      <td>500000</td>\n",
              "      <td>Free</td>\n",
              "      <td>0</td>\n",
              "      <td>Everyone</td>\n",
              "      <td>Health &amp; Fitness</td>\n",
              "      <td>['work', 'great', 'especially', 'going', 'groc...</td>\n",
              "      <td>Positive</td>\n",
              "      <td>0.549</td>\n",
              "      <td>0.451</td>\n",
              "      <td>0.0</td>\n",
              "      <td>0.6249</td>\n",
              "      <td>4.2498</td>\n",
              "    </tr>\n",
              "    <tr>\n",
              "      <th>3</th>\n",
              "      <td>10 Best Foods for You</td>\n",
              "      <td>Best idea us</td>\n",
              "      <td>best idea</td>\n",
              "      <td>11</td>\n",
              "      <td>4.0</td>\n",
              "      <td>4</td>\n",
              "      <td>2490</td>\n",
              "      <td>3800000.0</td>\n",
              "      <td>500000</td>\n",
              "      <td>Free</td>\n",
              "      <td>0</td>\n",
              "      <td>Everyone</td>\n",
              "      <td>Health &amp; Fitness</td>\n",
              "      <td>['best', 'idea', 'u']</td>\n",
              "      <td>Positive</td>\n",
              "      <td>0.323</td>\n",
              "      <td>0.677</td>\n",
              "      <td>0.0</td>\n",
              "      <td>0.6369</td>\n",
              "      <td>4.2738</td>\n",
              "    </tr>\n",
              "    <tr>\n",
              "      <th>4</th>\n",
              "      <td>10 Best Foods for You</td>\n",
              "      <td>Best way</td>\n",
              "      <td>best</td>\n",
              "      <td>11</td>\n",
              "      <td>4.0</td>\n",
              "      <td>4</td>\n",
              "      <td>2490</td>\n",
              "      <td>3800000.0</td>\n",
              "      <td>500000</td>\n",
              "      <td>Free</td>\n",
              "      <td>0</td>\n",
              "      <td>Everyone</td>\n",
              "      <td>Health &amp; Fitness</td>\n",
              "      <td>['best', 'way']</td>\n",
              "      <td>Positive</td>\n",
              "      <td>0.192</td>\n",
              "      <td>0.808</td>\n",
              "      <td>0.0</td>\n",
              "      <td>0.6369</td>\n",
              "      <td>4.2738</td>\n",
              "    </tr>\n",
              "    <tr>\n",
              "      <th>5</th>\n",
              "      <td>10 Best Foods for You</td>\n",
              "      <td>Amazing</td>\n",
              "      <td>amazing</td>\n",
              "      <td>11</td>\n",
              "      <td>4.0</td>\n",
              "      <td>4</td>\n",
              "      <td>2490</td>\n",
              "      <td>3800000.0</td>\n",
              "      <td>500000</td>\n",
              "      <td>Free</td>\n",
              "      <td>0</td>\n",
              "      <td>Everyone</td>\n",
              "      <td>Health &amp; Fitness</td>\n",
              "      <td>['amazing']</td>\n",
              "      <td>Positive</td>\n",
              "      <td>0.000</td>\n",
              "      <td>1.000</td>\n",
              "      <td>0.0</td>\n",
              "      <td>0.5859</td>\n",
              "      <td>4.1718</td>\n",
              "    </tr>\n",
              "    <tr>\n",
              "      <th>11</th>\n",
              "      <td>Hairstyles step by step</td>\n",
              "      <td>Amazing</td>\n",
              "      <td>amazing</td>\n",
              "      <td>1</td>\n",
              "      <td>4.6</td>\n",
              "      <td>4</td>\n",
              "      <td>4369</td>\n",
              "      <td>14000000.0</td>\n",
              "      <td>100000</td>\n",
              "      <td>Free</td>\n",
              "      <td>0</td>\n",
              "      <td>Everyone</td>\n",
              "      <td>Beauty</td>\n",
              "      <td>['amazing']</td>\n",
              "      <td>Positive</td>\n",
              "      <td>0.000</td>\n",
              "      <td>1.000</td>\n",
              "      <td>0.0</td>\n",
              "      <td>0.5859</td>\n",
              "      <td>4.1718</td>\n",
              "    </tr>\n",
              "    <tr>\n",
              "      <th>12</th>\n",
              "      <td>Health and Nutrition Guide</td>\n",
              "      <td>Amazing</td>\n",
              "      <td>amazing</td>\n",
              "      <td>11</td>\n",
              "      <td>4.3</td>\n",
              "      <td>4</td>\n",
              "      <td>7895</td>\n",
              "      <td>3300000.0</td>\n",
              "      <td>500000</td>\n",
              "      <td>Free</td>\n",
              "      <td>0</td>\n",
              "      <td>Everyone</td>\n",
              "      <td>Health &amp; Fitness</td>\n",
              "      <td>['amazing']</td>\n",
              "      <td>Positive</td>\n",
              "      <td>0.000</td>\n",
              "      <td>1.000</td>\n",
              "      <td>0.0</td>\n",
              "      <td>0.5859</td>\n",
              "      <td>4.1718</td>\n",
              "    </tr>\n",
              "    <tr>\n",
              "      <th>13</th>\n",
              "      <td>10 Best Foods for You</td>\n",
              "      <td>Looking forward app,</td>\n",
              "      <td>looking forward</td>\n",
              "      <td>11</td>\n",
              "      <td>4.0</td>\n",
              "      <td>3</td>\n",
              "      <td>2490</td>\n",
              "      <td>3800000.0</td>\n",
              "      <td>500000</td>\n",
              "      <td>Free</td>\n",
              "      <td>0</td>\n",
              "      <td>Everyone</td>\n",
              "      <td>Health &amp; Fitness</td>\n",
              "      <td>['looking', 'forward', 'app']</td>\n",
              "      <td>Neutral</td>\n",
              "      <td>1.000</td>\n",
              "      <td>0.000</td>\n",
              "      <td>0.0</td>\n",
              "      <td>0.0000</td>\n",
              "      <td>3.0000</td>\n",
              "    </tr>\n",
              "    <tr>\n",
              "      <th>14</th>\n",
              "      <td>10 Best Foods for You</td>\n",
              "      <td>It helpful site ! It help foods get !</td>\n",
              "      <td>helpful site help food</td>\n",
              "      <td>11</td>\n",
              "      <td>4.0</td>\n",
              "      <td>4</td>\n",
              "      <td>2490</td>\n",
              "      <td>3800000.0</td>\n",
              "      <td>500000</td>\n",
              "      <td>Free</td>\n",
              "      <td>0</td>\n",
              "      <td>Everyone</td>\n",
              "      <td>Health &amp; Fitness</td>\n",
              "      <td>['it', 'helpful', 'site', 'it', 'help', 'food'...</td>\n",
              "      <td>Positive</td>\n",
              "      <td>0.451</td>\n",
              "      <td>0.549</td>\n",
              "      <td>0.0</td>\n",
              "      <td>0.7256</td>\n",
              "      <td>4.4512</td>\n",
              "    </tr>\n",
              "  </tbody>\n",
              "</table>\n",
              "</div>"
            ],
            "text/plain": [
              "                           App  ... Sentiment_Rating\n",
              "0        10 Best Foods for You  ...           4.9062\n",
              "1        10 Best Foods for You  ...           4.3194\n",
              "2        10 Best Foods for You  ...           4.2498\n",
              "3        10 Best Foods for You  ...           4.2738\n",
              "4        10 Best Foods for You  ...           4.2738\n",
              "5        10 Best Foods for You  ...           4.1718\n",
              "11     Hairstyles step by step  ...           4.1718\n",
              "12  Health and Nutrition Guide  ...           4.1718\n",
              "13       10 Best Foods for You  ...           3.0000\n",
              "14       10 Best Foods for You  ...           4.4512\n",
              "\n",
              "[10 rows x 20 columns]"
            ]
          },
          "metadata": {
            "tags": []
          },
          "execution_count": 61
        }
      ]
    },
    {
      "cell_type": "code",
      "metadata": {
        "id": "pGVR2esWUrwc",
        "colab_type": "code",
        "outputId": "3d30bcbf-f84f-453b-c34f-3be8b3cec328",
        "colab": {
          "base_uri": "https://localhost:8080/",
          "height": 84
        }
      },
      "source": [
        "unique_apps = to_keep\n",
        "\n",
        "print(\"Creating an array containing arrays of reviews of different apps\")\n",
        "reviews_by_app = [df[df[\"App\"] == unique_apps[i]][\"Preprocessed_Review\"].to_numpy() for i in range(len(to_keep))]\n",
        "reviews_by_app\n",
        "print(\"Creating an array containing arrays of reviews' sentiment polarity of different apps\")\n",
        "review_sentiment_by_app = [df[df[\"App\"] == unique_apps[i]][\"Sentiment_Rating\"].to_numpy() for i in range(len(to_keep))]\n",
        "\n",
        "print(\"Creating an array containing the actual average rating of different apps\")\n",
        "avr_rating_per_app = [df[df[\"App\"] == unique_apps[i]][\"Average_Rating\"].to_numpy() for i in range(len(to_keep))]\n",
        "\n",
        "print(len(review_sentiment_by_app))"
      ],
      "execution_count": 0,
      "outputs": [
        {
          "output_type": "stream",
          "text": [
            "Creating an array containing arrays of reviews of different apps\n",
            "Creating an array containing arrays of reviews' sentiment polarity of different apps\n",
            "Creating an array containing the actual average rating of different apps\n",
            "104\n"
          ],
          "name": "stdout"
        }
      ]
    },
    {
      "cell_type": "code",
      "metadata": {
        "id": "H7kZ9SvcNCpG",
        "colab_type": "code",
        "colab": {}
      },
      "source": [
        "#review_sentiment_by_app"
      ],
      "execution_count": 0,
      "outputs": []
    },
    {
      "cell_type": "code",
      "metadata": {
        "id": "4_dElUoeNW91",
        "colab_type": "code",
        "colab": {}
      },
      "source": [
        "#avr_rating_per_app"
      ],
      "execution_count": 0,
      "outputs": []
    },
    {
      "cell_type": "code",
      "metadata": {
        "id": "MglN5jIilc7A",
        "colab_type": "code",
        "outputId": "c1bf88ed-de62-4eb0-fa97-f668101926fb",
        "colab": {
          "base_uri": "https://localhost:8080/",
          "height": 34
        }
      },
      "source": [
        "len(avr_rating_per_app)"
      ],
      "execution_count": 0,
      "outputs": [
        {
          "output_type": "execute_result",
          "data": {
            "text/plain": [
              "104"
            ]
          },
          "metadata": {
            "tags": []
          },
          "execution_count": 31
        }
      ]
    },
    {
      "cell_type": "code",
      "metadata": {
        "id": "-Y6qgicUz4jI",
        "colab_type": "code",
        "colab": {}
      },
      "source": [
        "#reviews_by_app"
      ],
      "execution_count": 0,
      "outputs": []
    },
    {
      "cell_type": "markdown",
      "metadata": {
        "id": "Kws-540CT4ge",
        "colab_type": "text"
      },
      "source": [
        "Using the sentiment polarity as the `x` input with a simple neural network model consisting of 2 layers.\n",
        "\n"
      ]
    },
    {
      "cell_type": "code",
      "metadata": {
        "id": "mAPf04yQUtqp",
        "colab_type": "code",
        "outputId": "c4e8369c-58e5-4077-84cc-16a045368216",
        "colab": {
          "base_uri": "https://localhost:8080/",
          "height": 50
        }
      },
      "source": [
        "from torch import tensor\n",
        "from torch.autograd import Variable\n",
        "from torch.utils.data import Dataset\n",
        "from torch.utils.data import DataLoader, random_split\n",
        "\n",
        "class SentimentDataset(Dataset):\n",
        "  def __init__(self, x, y):\n",
        "    self.samples = x\n",
        "    self.labels = y\n",
        "  \n",
        "  def __len__(self):\n",
        "    return len(self.samples)\n",
        "  \n",
        "  def __getitem__(self,idx):\n",
        "    item = self.samples[idx]\n",
        "    item = np.random.choice(item, size=50) # sampling 28 reviews from each app\n",
        "    return tensor(item, dtype=torch.float), tensor(self.labels[idx][0], dtype=torch.float)\n",
        "\n",
        "x = review_sentiment_by_app\n",
        "y = avr_rating_per_app\n",
        "\n",
        "train_size = int(0.7*len(x))\n",
        "val_size = len(x) - train_size\n",
        "\n",
        "data = SentimentDataset(review_sentiment_by_app, avr_rating_per_app)\n",
        "trainset, valset = random_split(data, [train_size, val_size])\n",
        "BATCH_SIZE = 5\n",
        "train_dataloader = DataLoader(trainset, batch_size=BATCH_SIZE, shuffle=True, num_workers=2)\n",
        "val_dataloader = DataLoader(valset, batch_size=BATCH_SIZE, shuffle=True, num_workers=2)\n",
        "\n",
        "print(\"Training dataloader has \", len(train_dataloader), \"batches of \", BATCH_SIZE)\n",
        "print(\"Validation dataloader has \", len(val_dataloader), \"batches of \", BATCH_SIZE)"
      ],
      "execution_count": 0,
      "outputs": [
        {
          "output_type": "stream",
          "text": [
            "Training dataloader has  15 batches of  5\n",
            "Validation dataloader has  7 batches of  5\n"
          ],
          "name": "stdout"
        }
      ]
    },
    {
      "cell_type": "markdown",
      "metadata": {
        "id": "59OF9V9fDwCU",
        "colab_type": "text"
      },
      "source": [
        "NORMALIZE LABEL FROM 0 - 1, INPUT NORMALIZE TO 0 - 1 "
      ]
    },
    {
      "cell_type": "code",
      "metadata": {
        "id": "MMz1ILnjUxNy",
        "colab_type": "code",
        "outputId": "b5104d97-a987-41b1-ecbb-ae4eba85b60c",
        "colab": {
          "base_uri": "https://localhost:8080/",
          "height": 837
        }
      },
      "source": [
        "# !pip install tensorboard\n",
        "# !tensorboard --logdir=runs\n",
        "# from torch.utils.tensorboard import SummaryWriter\n",
        "# import torchvision\n",
        "\n",
        "import torch\n",
        "import torch.nn as nn\n",
        "from torch import optim\n",
        "import torch.nn.functional as F\n",
        "import matplotlib.pyplot as plt\n",
        "\n",
        "#RNN module\n",
        "class Net(nn.Module):\n",
        "  def __init__(self, n_feature, n_hidden, n_output):\n",
        "        super(Net, self).__init__()\n",
        "        self.hidden = nn.Linear(n_feature, n_hidden)   # hidden layer\n",
        "        self.predict = nn.Linear(n_hidden, n_output)   # output layer\n",
        "\n",
        "  def forward(self, x):\n",
        "        #xn = F.sigmoid(self.hidden(x))\n",
        "        x = F.relu(self.hidden(x))  # activation function for hidden layer\n",
        "        x = self.predict(x)             # linear output\n",
        "        return x\n",
        "\n",
        "INPUT_SIZE = num_reviews_per_app\n",
        "OUTPUT_SIZE = 1 # regression to reach average rating\n",
        "HIDDEN_SIZE = 30 # arbitrary\n",
        "learning_rate = 0.0002\n",
        "\n",
        "net = Net(n_feature=INPUT_SIZE, n_hidden=HIDDEN_SIZE, n_output=OUTPUT_SIZE)\n",
        "print(net)\n",
        "optimizer = optim.Adam(net.parameters(), lr=learning_rate)\n",
        "loss_func = nn.MSELoss()\n",
        "# writer = SummaryWriter()\n",
        "\n",
        "num_epochs = 100\n",
        "losses = []\n",
        "for i in range(num_epochs):\n",
        "  for batch_idx, samples in enumerate(train_dataloader):\n",
        "    x, y = samples\n",
        "    \n",
        "    prediction = net(x)\n",
        "    loss = loss_func(prediction, y)\n",
        "    optimizer.zero_grad()   # clear gradients for next train\n",
        "    loss.backward()         # backpropagation, compute gradients\n",
        "    optimizer.step()        # apply gradients\n",
        "\n",
        "    # for plotting\n",
        "  if i % 10 == 0:\n",
        "      print(\"Epoch \", i+10, \", Loss: \", loss)\n",
        "  losses.append(loss)\n",
        "\n",
        "plt.xlabel(\"Epoch\")\n",
        "plt.ylabel(\"Loss\")\n",
        "plt.plot(range(len(losses)),losses)"
      ],
      "execution_count": 0,
      "outputs": [
        {
          "output_type": "stream",
          "text": [
            "Net(\n",
            "  (hidden): Linear(in_features=50, out_features=30, bias=True)\n",
            "  (predict): Linear(in_features=30, out_features=1, bias=True)\n",
            ")\n",
            "Epoch  10 , Loss:  tensor(15.9434, grad_fn=<MseLossBackward>)\n"
          ],
          "name": "stdout"
        },
        {
          "output_type": "stream",
          "text": [
            "/usr/local/lib/python3.6/dist-packages/torch/nn/modules/loss.py:431: UserWarning: Using a target size (torch.Size([5])) that is different to the input size (torch.Size([5, 1])). This will likely lead to incorrect results due to broadcasting. Please ensure they have the same size.\n",
            "  return F.mse_loss(input, target, reduction=self.reduction)\n",
            "/usr/local/lib/python3.6/dist-packages/torch/nn/modules/loss.py:431: UserWarning: Using a target size (torch.Size([2])) that is different to the input size (torch.Size([2, 1])). This will likely lead to incorrect results due to broadcasting. Please ensure they have the same size.\n",
            "  return F.mse_loss(input, target, reduction=self.reduction)\n"
          ],
          "name": "stderr"
        },
        {
          "output_type": "stream",
          "text": [
            "Epoch  20 , Loss:  tensor(0.4837, grad_fn=<MseLossBackward>)\n",
            "Epoch  30 , Loss:  tensor(0.0415, grad_fn=<MseLossBackward>)\n",
            "Epoch  40 , Loss:  tensor(0.2308, grad_fn=<MseLossBackward>)\n",
            "Epoch  50 , Loss:  tensor(0.3558, grad_fn=<MseLossBackward>)\n",
            "Epoch  60 , Loss:  tensor(0.1822, grad_fn=<MseLossBackward>)\n",
            "Epoch  70 , Loss:  tensor(0.3355, grad_fn=<MseLossBackward>)\n",
            "Epoch  80 , Loss:  tensor(0.5479, grad_fn=<MseLossBackward>)\n",
            "Epoch  90 , Loss:  tensor(0.0539, grad_fn=<MseLossBackward>)\n",
            "Epoch  100 , Loss:  tensor(0.1991, grad_fn=<MseLossBackward>)\n"
          ],
          "name": "stdout"
        },
        {
          "output_type": "execute_result",
          "data": {
            "text/plain": [
              "[<matplotlib.lines.Line2D at 0x7f5567026588>]"
            ]
          },
          "metadata": {
            "tags": []
          },
          "execution_count": 64
        },
        {
          "output_type": "display_data",
          "data": {
            "image/png": "[encoded data removed]",
            "text/plain": [
              "<Figure size 432x288 with 1 Axes>"
            ]
          },
          "metadata": {
            "tags": []
          }
        },
        {
          "output_type": "stream",
          "text": [
            "Exception ignored in: <bound method _MultiProcessingDataLoaderIter.__del__ of <torch.utils.data.dataloader._MultiProcessingDataLoaderIter object at 0x7f55c00d3ba8>>\n",
            "Traceback (most recent call last):\n",
            "  File \"/usr/local/lib/python3.6/dist-packages/torch/utils/data/dataloader.py\", line 926, in __del__\n",
            "    self._shutdown_workers()\n",
            "  File \"/usr/local/lib/python3.6/dist-packages/torch/utils/data/dataloader.py\", line 906, in _shutdown_workers\n",
            "    w.join()\n",
            "  File \"/usr/lib/python3.6/multiprocessing/process.py\", line 124, in join\n",
            "    res = self._popen.wait(timeout)\n",
            "  File \"/usr/lib/python3.6/multiprocessing/popen_fork.py\", line 50, in wait\n",
            "    return self.poll(os.WNOHANG if timeout == 0.0 else 0)\n",
            "  File \"/usr/lib/python3.6/multiprocessing/popen_fork.py\", line 28, in poll\n",
            "    pid, sts = os.waitpid(self.pid, flag)\n",
            "KeyboardInterrupt: \n"
          ],
          "name": "stderr"
        }
      ]
    },
    {
      "cell_type": "code",
      "metadata": {
        "id": "sE1lmSJ8MZdT",
        "colab_type": "code",
        "outputId": "c0bcd134-3e01-4cad-a802-4178d3ab2688",
        "colab": {
          "base_uri": "https://localhost:8080/",
          "height": 518
        }
      },
      "source": [
        "losses = []\n",
        "for batch_idx, samples in enumerate(val_dataloader):\n",
        "  x, y = samples\n",
        "  prediction = net(x)\n",
        "  #print(\"Given reviews\", x)\n",
        "  #print(\"Actual Average Rating\", y)\n",
        "  #print(\"Predicted \", prediction)\n",
        "  loss = loss_func(prediction, y)\n",
        "  print(\"Loss\", loss)\n",
        "  losses.append(loss)\n",
        "  aver_MSE_loss = sum(losses)/len(losses)\n",
        "print(aver_MSE_loss)  \n",
        "plt.xlabel(\"Epoch\")\n",
        "plt.ylabel(\"Loss\")\n",
        "plt.plot(range(len(losses)),losses)"
      ],
      "execution_count": 0,
      "outputs": [
        {
          "output_type": "stream",
          "text": [
            "Loss tensor(0.3361, grad_fn=<MseLossBackward>)\n",
            "Loss tensor(0.0385, grad_fn=<MseLossBackward>)\n",
            "Loss tensor(0.2318, grad_fn=<MseLossBackward>)\n",
            "Loss tensor(0.3610, grad_fn=<MseLossBackward>)\n",
            "Loss tensor(0.3480, grad_fn=<MseLossBackward>)\n",
            "Loss tensor(0.2393, grad_fn=<MseLossBackward>)\n",
            "Loss tensor(0.1849, grad_fn=<MseLossBackward>)\n",
            "tensor(0.2485, grad_fn=<DivBackward0>)\n"
          ],
          "name": "stdout"
        },
        {
          "output_type": "stream",
          "text": [
            "/usr/local/lib/python3.6/dist-packages/torch/nn/modules/loss.py:431: UserWarning: Using a target size (torch.Size([5])) that is different to the input size (torch.Size([5, 1])). This will likely lead to incorrect results due to broadcasting. Please ensure they have the same size.\n",
            "  return F.mse_loss(input, target, reduction=self.reduction)\n",
            "/usr/local/lib/python3.6/dist-packages/torch/nn/modules/loss.py:431: UserWarning: Using a target size (torch.Size([2])) that is different to the input size (torch.Size([2, 1])). This will likely lead to incorrect results due to broadcasting. Please ensure they have the same size.\n",
            "  return F.mse_loss(input, target, reduction=self.reduction)\n"
          ],
          "name": "stderr"
        },
        {
          "output_type": "execute_result",
          "data": {
            "text/plain": [
              "[<matplotlib.lines.Line2D at 0x7f556701f7b8>]"
            ]
          },
          "metadata": {
            "tags": []
          },
          "execution_count": 66
        },
        {
          "output_type": "display_data",
          "data": {
            "image/png": "[encoded data removed]",
            "text/plain": [
              "<Figure size 432x288 with 1 Axes>"
            ]
          },
          "metadata": {
            "tags": []
          }
        }
      ]
    },
    {
      "cell_type": "code",
      "metadata": {
        "id": "kKKkb5qEVoxh",
        "colab_type": "code",
        "colab": {}
      },
      "source": [
        "# #LSTM module\n",
        "# class Net(nn.Module):\n",
        "#     def __init__(self, n_feature, n_hidden, n_output):\n",
        "#         super(Net, self).__init__()\n",
        "        \n",
        "#         # Recurrent layer\n",
        "#         self.lstm = nn.LSTM(input_size=n_feature,\n",
        "#                          hidden_size=n_hidden,\n",
        "#                          num_layers=1,\n",
        "#                          bidirectional=False)\n",
        "        \n",
        "#         # Output layer\n",
        "#         self.l_out = nn.Linear(in_features=50,\n",
        "#                             out_features=n_output,\n",
        "#                             bias=False)\n",
        "        \n",
        "#     def forward(self, x):\n",
        "#         # RNN returns output and last hidden state\n",
        "#         x, (h, c) = self.lstm(x)\n",
        "        \n",
        "#         # Flatten output for feed-forward layer\n",
        "#         x = x.view(-1, self.lstm.hidden_size)\n",
        "        \n",
        "#         # Output layer\n",
        "#         x = self.l_out(x)\n",
        "\n",
        "#         return x\n",
        "\n",
        "# net = Net(n_feature=INPUT_SIZE, n_hidden=HIDDEN_SIZE, n_output=OUTPUT_SIZE)\n",
        "# print(net)\n",
        "# optimizer = optim.Adam(net.parameters(), lr=learning_rate)\n",
        "# loss_func = nn.MSELoss()\n",
        "# # writer = SummaryWriter()\n",
        "\n",
        "# num_epochs = 100\n",
        "# losses = []\n",
        "# for i in range(num_epochs):\n",
        "#   for batch_idx, samples in enumerate(train_dataloader):\n",
        "#     x, y = samples\n",
        "    \n",
        "#     prediction = net(x)\n",
        "#     #print(prediction.dim)\n",
        "#     loss = loss_func(prediction, y)\n",
        "#     optimizer.zero_grad()   # clear gradients for next train\n",
        "#     loss.backward()         # backpropagation, compute gradients\n",
        "#     optimizer.step()        # apply gradients\n",
        "\n",
        "#     # for plotting\n",
        "#   if i % 10 == 0:\n",
        "#       print(\"Epoch \", i, \", Loss: \", loss)\n",
        "#   losses.append(loss)\n",
        "\n",
        "# plt.xlabel(\"Epoch\")\n",
        "# plt.ylabel(\"Loss\")\n",
        "# plt.plot(range(len(losses)),losses)"
      ],
      "execution_count": 0,
      "outputs": []
    }
  ]
}