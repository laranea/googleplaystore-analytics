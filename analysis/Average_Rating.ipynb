{
 "cells": [
  {
   "cell_type": "markdown",
   "metadata": {},
   "source": [
    "Prerequisite : Need to run the NLP model notebook"
   ]
  },
  {
   "cell_type": "code",
   "execution_count": null,
   "metadata": {},
   "outputs": [],
   "source": [
    "df = pd.read_csv(\"../data/googleplaystore_user_reviews.csv\")\n",
    "df_review = pd.read_csv('../data/googleplaystore_cleaned.csv')\n",
    "df = df.dropna()\n",
    "review_with_ratings = pd.merge(df,df_review,on = 'App')\n",
    "review_with_ratings.head()"
   ]
  },
  {
   "cell_type": "code",
   "execution_count": null,
   "metadata": {},
   "outputs": [],
   "source": [
    "review_with_ratings['tokens'] = review_with_ratings['Review New'].apply(preprocess)"
   ]
  },
  {
   "cell_type": "markdown",
   "metadata": {},
   "source": [
    "Compound Scores are added "
   ]
  },
  {
   "cell_type": "code",
   "execution_count": null,
   "metadata": {},
   "outputs": [],
   "source": [
    "analyzer = SentimentIntensityAnalyzer()\n",
    "def sentiment_polarity(s):\n",
    "    global analyzer\n",
    "    polarity_scores = analyzer.polarity_scores(s)\n",
    "    compound_score = polarity_scores[\"compound\"]\n",
    "    if compound_score >= 0.5:\n",
    "        label = \"Positive\"\n",
    "    elif compound_score > -0.05 and compound_score < 0.05:\n",
    "        label = \"Neutral\"\n",
    "    else:\n",
    "        label = \"Negative\"\n",
    "    return label, polarity_scores[\"neu\"], polarity_scores[\"pos\"], polarity_scores[\"neg\"],compound_score"
   ]
  },
  {
   "cell_type": "code",
   "execution_count": null,
   "metadata": {},
   "outputs": [],
   "source": [
    "df = review_with_ratings\n",
    "df[\"Sentiment\"], df[\"Neutral Proportion\"], df[\"Positive Proportion\"], df[\"Negative Proportion\"],df['Compound'] =  zip(*df[\"Review\"].apply(sentiment_polarity))\n",
    "df.sample(3)"
   ]
  },
  {
   "cell_type": "markdown",
   "metadata": {},
   "source": [
    "Normalize the rating to be between 1 and 5 "
   ]
  },
  {
   "cell_type": "code",
   "execution_count": null,
   "metadata": {},
   "outputs": [],
   "source": [
    "df['Rating_pred'] = df['Compound'].apply(lambda x: (x-(-1))/(1-(-1))*(5-1)+1)"
   ]
  },
  {
   "cell_type": "code",
   "execution_count": null,
   "metadata": {},
   "outputs": [],
   "source": [
    "np.min(df.Rating_pred)"
   ]
  },
  {
   "cell_type": "code",
   "execution_count": null,
   "metadata": {},
   "outputs": [],
   "source": [
    "np.min(df.Compound)"
   ]
  },
  {
   "cell_type": "code",
   "execution_count": null,
   "metadata": {},
   "outputs": [],
   "source": [
    "np.max(df.Rating_pred)"
   ]
  },
  {
   "cell_type": "code",
   "execution_count": null,
   "metadata": {},
   "outputs": [],
   "source": [
    "np.max(df.Compound)"
   ]
  },
  {
   "cell_type": "markdown",
   "metadata": {},
   "source": [
    "Calculate the average rating "
   ]
  },
  {
   "cell_type": "code",
   "execution_count": null,
   "metadata": {},
   "outputs": [],
   "source": [
    "Average_Rating = df.groupby('App')['Rating_pred'].mean()\n",
    "df_Compare = pd.DataFrame(Average_Rating)\n",
    "df_Compare.head()"
   ]
  },
  {
   "cell_type": "code",
   "execution_count": null,
   "metadata": {},
   "outputs": [],
   "source": [
    "df_Compare = pd.merge(df_Compare,df_review, on = 'App')"
   ]
  },
  {
   "cell_type": "code",
   "execution_count": null,
   "metadata": {},
   "outputs": [],
   "source": [
    "df_Compare.head()"
   ]
  },
  {
   "cell_type": "code",
   "execution_count": null,
   "metadata": {},
   "outputs": [],
   "source": [
    "df_Compare = df_Compare.drop_duplicates()\n",
    "df_Compare.head()"
   ]
  },
  {
   "cell_type": "code",
   "execution_count": null,
   "metadata": {},
   "outputs": [],
   "source": [
    "df_Overall = pd.DataFrame(df_Compare['App'])\n",
    "df_Overall['Rating Polarity'] = df_Compare['Rating_pred']\n",
    "df_Overall['Rating Dataset'] = df_Compare['Rating']"
   ]
  },
  {
   "cell_type": "code",
   "execution_count": null,
   "metadata": {},
   "outputs": [],
   "source": [
    "df_Overall.head()"
   ]
  },
  {
   "cell_type": "code",
   "execution_count": null,
   "metadata": {},
   "outputs": [],
   "source": [
    "df_Overall.to_csv(\"../data/Compare_Rating.csv\")"
   ]
  },
  {
   "cell_type": "markdown",
   "metadata": {},
   "source": [
    "Compute the mse to compare between Overall Rating and the Rating predicted from polarity "
   ]
  },
  {
   "cell_type": "code",
   "execution_count": null,
   "metadata": {},
   "outputs": [],
   "source": [
    "mse = np.mean(np.multiply((df_Overall['Rating Polarity']-df_Overall['Rating Dataset']),\n",
    "                          (df_Overall['Rating Polarity']-df_Overall['Rating Dataset'])))"
   ]
  },
  {
   "cell_type": "code",
   "execution_count": null,
   "metadata": {},
   "outputs": [],
   "source": [
    "mse"
   ]
  }
 ],
 "metadata": {
  "kernelspec": {
   "display_name": "Python 3",
   "language": "python",
   "name": "python3"
  },
  "language_info": {
   "codemirror_mode": {
    "name": "ipython",
    "version": 3
   },
   "file_extension": ".py",
   "mimetype": "text/x-python",
   "name": "python",
   "nbconvert_exporter": "python",
   "pygments_lexer": "ipython3",
   "version": "3.7.3"
  }
 },
 "nbformat": 4,
 "nbformat_minor": 2
}
