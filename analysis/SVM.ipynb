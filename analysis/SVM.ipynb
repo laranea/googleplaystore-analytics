{
 "cells": [
  {
   "cell_type": "markdown",
   "metadata": {},
   "source": [
    "# SVM Model"
   ]
  },
  {
   "cell_type": "markdown",
   "metadata": {},
   "source": [
    "According to a [Stanford Paper](https://nlp.stanford.edu/courses/cs224n/2009/fp/14.pdf),  SVM classifiers perform well when classifying the subjectivity of sentences within the same domain. They are also effective, though less so, at classifying\n",
    "the polarity of subjective sentences in the same domain. Now we will try doing so for our reviews data. \n",
    "\n",
    "Previously we have already transformed the reviews data into a Bag of Words Model for modelling. Now we will transform it with a `TfidfVectorizer` instead. This vectorizer is equivalent to using `CountVectorizer` followed by `TfidfTransformer`. "
   ]
  },
  {
   "cell_type": "code",
   "execution_count": 1,
   "metadata": {},
   "outputs": [
    {
     "data": {
      "text/html": [
       "<div>\n",
       "<style scoped>\n",
       "    .dataframe tbody tr th:only-of-type {\n",
       "        vertical-align: middle;\n",
       "    }\n",
       "\n",
       "    .dataframe tbody tr th {\n",
       "        vertical-align: top;\n",
       "    }\n",
       "\n",
       "    .dataframe thead th {\n",
       "        text-align: right;\n",
       "    }\n",
       "</style>\n",
       "<table border=\"1\" class=\"dataframe\">\n",
       "  <thead>\n",
       "    <tr style=\"text-align: right;\">\n",
       "      <th></th>\n",
       "      <th>App</th>\n",
       "      <th>Translated_Review</th>\n",
       "      <th>Sentiment</th>\n",
       "      <th>Sentiment_Polarity</th>\n",
       "      <th>Sentiment_Subjectivity</th>\n",
       "    </tr>\n",
       "  </thead>\n",
       "  <tbody>\n",
       "    <tr>\n",
       "      <td>0</td>\n",
       "      <td>10 Best Foods for You</td>\n",
       "      <td>I like eat delicious food. That's I'm cooking ...</td>\n",
       "      <td>Positive</td>\n",
       "      <td>1.00</td>\n",
       "      <td>0.533333</td>\n",
       "    </tr>\n",
       "    <tr>\n",
       "      <td>1</td>\n",
       "      <td>10 Best Foods for You</td>\n",
       "      <td>This help eating healthy exercise regular basis</td>\n",
       "      <td>Positive</td>\n",
       "      <td>0.25</td>\n",
       "      <td>0.288462</td>\n",
       "    </tr>\n",
       "    <tr>\n",
       "      <td>2</td>\n",
       "      <td>10 Best Foods for You</td>\n",
       "      <td>NaN</td>\n",
       "      <td>NaN</td>\n",
       "      <td>NaN</td>\n",
       "      <td>NaN</td>\n",
       "    </tr>\n",
       "    <tr>\n",
       "      <td>3</td>\n",
       "      <td>10 Best Foods for You</td>\n",
       "      <td>Works great especially going grocery store</td>\n",
       "      <td>Positive</td>\n",
       "      <td>0.40</td>\n",
       "      <td>0.875000</td>\n",
       "    </tr>\n",
       "    <tr>\n",
       "      <td>4</td>\n",
       "      <td>10 Best Foods for You</td>\n",
       "      <td>Best idea us</td>\n",
       "      <td>Positive</td>\n",
       "      <td>1.00</td>\n",
       "      <td>0.300000</td>\n",
       "    </tr>\n",
       "  </tbody>\n",
       "</table>\n",
       "</div>"
      ],
      "text/plain": [
       "                     App                                  Translated_Review  \\\n",
       "0  10 Best Foods for You  I like eat delicious food. That's I'm cooking ...   \n",
       "1  10 Best Foods for You    This help eating healthy exercise regular basis   \n",
       "2  10 Best Foods for You                                                NaN   \n",
       "3  10 Best Foods for You         Works great especially going grocery store   \n",
       "4  10 Best Foods for You                                       Best idea us   \n",
       "\n",
       "  Sentiment  Sentiment_Polarity  Sentiment_Subjectivity  \n",
       "0  Positive                1.00                0.533333  \n",
       "1  Positive                0.25                0.288462  \n",
       "2       NaN                 NaN                     NaN  \n",
       "3  Positive                0.40                0.875000  \n",
       "4  Positive                1.00                0.300000  "
      ]
     },
     "execution_count": 1,
     "metadata": {},
     "output_type": "execute_result"
    }
   ],
   "source": [
    "import numpy as np\n",
    "import pandas as pd\n",
    "\n",
    "df = pd.read_csv('../data/googleplaystore_user_reviews.csv')\n",
    "df.head()"
   ]
  },
  {
   "cell_type": "markdown",
   "metadata": {},
   "source": [
    "Minor preprocessing on the dataset"
   ]
  },
  {
   "cell_type": "code",
   "execution_count": 39,
   "metadata": {},
   "outputs": [
    {
     "data": {
      "text/plain": [
       "27994"
      ]
     },
     "execution_count": 39,
     "metadata": {},
     "output_type": "execute_result"
    }
   ],
   "source": [
    "df[\"Translated_Review\"].replace([\"NaN\"], np.nan, inplace = True)\n",
    "df = df.dropna().drop_duplicates().reset_index(drop=True)\n",
    "len(reviews)"
   ]
  },
  {
   "cell_type": "markdown",
   "metadata": {},
   "source": [
    "Split the test and train data"
   ]
  },
  {
   "cell_type": "code",
   "execution_count": 40,
   "metadata": {},
   "outputs": [],
   "source": [
    "from sklearn.model_selection import train_test_split\n",
    "\n",
    "X = df[\"Translated_Review\"]\n",
    "y = df[\"Sentiment\"]\n",
    "\n",
    "X_train, X_test, y_train, y_test = train_test_split(X, y, train_size=0.33, random_state=42)"
   ]
  },
  {
   "cell_type": "code",
   "execution_count": 41,
   "metadata": {},
   "outputs": [
    {
     "data": {
      "text/plain": [
       "TfidfVectorizer(analyzer='word', binary=False, decode_error='strict',\n",
       "                dtype=<class 'numpy.float64'>, encoding='utf-8',\n",
       "                input='content', lowercase=True, max_df=1.0, max_features=None,\n",
       "                min_df=1, ngram_range=(1, 2), norm='l2', preprocessor=None,\n",
       "                smooth_idf=True, stop_words=None, strip_accents=None,\n",
       "                sublinear_tf=True, token_pattern='(?u)\\\\b\\\\w\\\\w+\\\\b',\n",
       "                tokenizer=None, use_idf=True, vocabulary=None)"
      ]
     },
     "execution_count": 41,
     "metadata": {},
     "output_type": "execute_result"
    }
   ],
   "source": [
    "from sklearn.feature_extraction.text import TfidfVectorizer\n",
    "\n",
    "vectorizer = TfidfVectorizer(sublinear_tf = True, smooth_idf=True, ngram_range=(1,2))\n",
    "vectorizer.fit(reviews)"
   ]
  },
  {
   "cell_type": "code",
   "execution_count": 43,
   "metadata": {},
   "outputs": [],
   "source": [
    "train_vectors = vectorizer.fit_transform(X_train)\n",
    "test_vectors = vectorizer.transform(X_test)"
   ]
  },
  {
   "cell_type": "markdown",
   "metadata": {},
   "source": [
    "Classifying the data using a SVM with linear kernel"
   ]
  },
  {
   "cell_type": "code",
   "execution_count": 60,
   "metadata": {},
   "outputs": [
    {
     "name": "stdout",
     "output_type": "stream",
     "text": [
      "Training time: 33.102018s; Prediction time: 42.944373s\n"
     ]
    }
   ],
   "source": [
    "import time\n",
    "from sklearn import svm\n",
    "from sklearn.metrics import classification_report\n",
    "\n",
    "classifier_linear = svm.SVC(kernel='linear')\n",
    "t0 = time.time()\n",
    "classifier_linear.fit(train_vectors, y_train)\n",
    "t1 = time.time()\n",
    "prediction_linear = classifier_linear.predict(test_vectors)\n",
    "t2 = time.time()\n",
    "time_linear_train = t1-t0\n",
    "time_linear_predict = t2-t1\n",
    "\n",
    "print(\"Training time: %fs; Prediction time: %fs\" % (time_linear_train, time_linear_predict))"
   ]
  },
  {
   "cell_type": "code",
   "execution_count": 61,
   "metadata": {},
   "outputs": [
    {
     "name": "stdout",
     "output_type": "stream",
     "text": [
      "Classification Report for SVM Linear Kernel\n",
      "              precision    recall  f1-score   support\n",
      "\n",
      "    Negative       0.80      0.69      0.74      4294\n",
      "     Neutral       0.86      0.50      0.64      2925\n",
      "    Positive       0.84      0.96      0.89     12675\n",
      "\n",
      "    accuracy                           0.83     19894\n",
      "   macro avg       0.83      0.72      0.76     19894\n",
      "weighted avg       0.83      0.83      0.82     19894\n",
      "\n"
     ]
    }
   ],
   "source": [
    "linear_report = classification_report(y_test, prediction_linear)\n",
    "print(\"Classification Report for SVM Linear Kernel\")\n",
    "print(linear_report)"
   ]
  },
  {
   "cell_type": "markdown",
   "metadata": {},
   "source": [
    "Now we try a SVM with a rbf kernel"
   ]
  },
  {
   "cell_type": "code",
   "execution_count": 62,
   "metadata": {},
   "outputs": [
    {
     "name": "stdout",
     "output_type": "stream",
     "text": [
      "Training time: 52.562992s; Prediction time: 56.747367s\n"
     ]
    }
   ],
   "source": [
    "classifier_rbf = svm.SVC(kernel='rbf', gamma='scale')\n",
    "t0 = time.time()\n",
    "classifier_rbf.fit(train_vectors, y_train)\n",
    "t1 = time.time()\n",
    "prediction = classifier_rbf.predict(test_vectors)\n",
    "t2 = time.time()\n",
    "time_train = t1-t0\n",
    "time_predict = t2-t1\n",
    "\n",
    "print(\"Training time: %fs; Prediction time: %fs\" % (time_train, time_predict))"
   ]
  },
  {
   "cell_type": "code",
   "execution_count": 63,
   "metadata": {},
   "outputs": [
    {
     "name": "stdout",
     "output_type": "stream",
     "text": [
      "Classification Report for SVM RBF Kernel\n",
      "              precision    recall  f1-score   support\n",
      "\n",
      "    Negative       0.90      0.45      0.60      4294\n",
      "     Neutral       0.96      0.18      0.31      2925\n",
      "    Positive       0.73      0.99      0.84     12675\n",
      "\n",
      "    accuracy                           0.75     19894\n",
      "   macro avg       0.86      0.54      0.58     19894\n",
      "weighted avg       0.80      0.75      0.71     19894\n",
      "\n"
     ]
    }
   ],
   "source": [
    "rbf_report = classification_report(y_test, prediction)\n",
    "print(\"Classification Report for SVM RBF Kernel\")\n",
    "print(rbf_report)"
   ]
  },
  {
   "cell_type": "markdown",
   "metadata": {},
   "source": [
    "The classification reports give us 4 readings:\n",
    "1. Precision = tp / (tp + fp) \n",
    "2. Recall = tp / (tp + fn)\n",
    "3. f1-score = 2 * (precision * recall) / (precision + recall)\n",
    "4. Support: the number of occurrences of each class in y_true\n",
    "\n",
    "From the classification reports, we can see that\n",
    "- Precision: RBF kernel has a higher precision for Negative and Neutral classes than the Linear Kernel, but the Linear Kernel has a higher precision for the Positive class \n",
    "- Recall: RBF kernel scored lower recall for Negative and Neutral classes, but higher recall for Positive class than Linear Kernel\n",
    "- f1-score: Linear kernel achieves better f1-score for all 3 categories than RBF kernel\n",
    "\n",
    "According to the stack overflow conversation [here](https://stats.stackexchange.com/questions/49226/how-to-interpret-f-measure-values), our use case does not emphasise on correctly labelling a particular type of sentiment, so the f1-score will be a crucial factor to take into account. Thus we should proceed with the linear kernel svm in this case."
   ]
  },
  {
   "cell_type": "code",
   "execution_count": 65,
   "metadata": {},
   "outputs": [],
   "source": [
    "# Incomplete:Plot the difference in score if necessary using these data\n",
    "\n",
    "dict_linear = classification_report(y_test, prediction_linear,  output_dict=True)\n",
    "dict_rbf = classification_report(y_test, prediction, output_dict=True)"
   ]
  },
  {
   "cell_type": "code",
   "execution_count": null,
   "metadata": {},
   "outputs": [],
   "source": []
  }
 ],
 "metadata": {
  "kernelspec": {
   "display_name": "Python 3",
   "language": "python",
   "name": "python3"
  },
  "language_info": {
   "codemirror_mode": {
    "name": "ipython",
    "version": 3
   },
   "file_extension": ".py",
   "mimetype": "text/x-python",
   "name": "python",
   "nbconvert_exporter": "python",
   "pygments_lexer": "ipython3",
   "version": "3.6.8"
  }
 },
 "nbformat": 4,
 "nbformat_minor": 2
}
