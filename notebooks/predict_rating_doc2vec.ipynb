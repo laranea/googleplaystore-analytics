{
  "nbformat": 4,
  "nbformat_minor": 0,
  "metadata": {
    "colab": {
      "name": "predict_rating_doc2vec.ipynb",
      "provenance": [],
      "include_colab_link": true
    },
    "kernelspec": {
      "name": "python3",
      "display_name": "Python 3"
    }
  },
  "cells": [
    {
      "cell_type": "markdown",
      "metadata": {
        "id": "view-in-github",
        "colab_type": "text"
      },
      "source": [
        "<a href=\"https://colab.research.google.com/github/lyqht/googleplaystore-analytics/blob/master/notebooks/predict_rating_doc2vec.ipynb\" target=\"_parent\"><img src=\"https://colab.research.google.com/assets/colab-badge.svg\" alt=\"Open In Colab\"/></a>"
      ]
    },
    {
      "cell_type": "code",
      "metadata": {
        "id": "_JihxbIUitvV",
        "colab_type": "code",
        "colab": {
          "base_uri": "https://localhost:8080/",
          "height": 117
        },
        "outputId": "22e57b57-d392-494a-b7fa-ef8deb7ba232"
      },
      "source": [
        "import pandas as pd\n",
        "import numpy as np\n",
        "\n",
        "df = pd.read_csv(\"https://raw.githubusercontent.com/lyqht/googleplaystore-analytics/master/data/reviews_joined.csv\", index_col=0)\n",
        "df.dropna(inplace=True)\n",
        "df.reset_index(inplace=True)\n",
        "df.drop(\"index\", axis=1,inplace=True)\n",
        "df.drop_duplicates(subset=[\"Preprocessed_Review\",\"App\"],inplace=True, keep=\"first\")\n",
        "df['Price'] = df['Price'].str.replace('$', '')\n",
        "df['Price'] = df['Price'].astype(float)\n",
        "df.columns"
      ],
      "execution_count": 1,
      "outputs": [
        {
          "output_type": "execute_result",
          "data": {
            "text/plain": [
              "Index(['App', 'Review', 'Preprocessed_Review', 'Category', 'Average_Rating',\n",
              "       'Rating_Label', 'Num_Reviews', 'Size', 'Installs', 'Type', 'Price',\n",
              "       'Content Rating', 'Genres', 'Tokens', 'Sentiment', 'Neutral Proportion',\n",
              "       'Positive Proportion', 'Negative Proportion', 'Compound Score',\n",
              "       'Sentiment_Rating'],\n",
              "      dtype='object')"
            ]
          },
          "metadata": {
            "tags": []
          },
          "execution_count": 1
        }
      ]
    },
    {
      "cell_type": "code",
      "metadata": {
        "id": "DTjtvk2UivqK",
        "colab_type": "code",
        "colab": {
          "base_uri": "https://localhost:8080/",
          "height": 344
        },
        "outputId": "daf9d870-2115-4835-ea70-74d9aa7f3fd0"
      },
      "source": [
        "from sklearn import preprocessing\n",
        "min_max_scaler = preprocessing.MinMaxScaler()\n",
        "from sklearn.preprocessing import LabelEncoder, OneHotEncoder\n",
        "\n",
        "columns_to_normalize = [\"Average_Rating\", \"Installs\", \"Price\", \"Size\", \"Sentiment_Rating\"]\n",
        "for col in columns_to_normalize:\n",
        "  data_scaled = min_max_scaler.fit_transform(df[col].to_numpy().reshape(-1,1))\n",
        "  df[col] = data_scaled\n",
        "\n",
        "columns_to_encode = [\"Category\", \"Genres\"]\n",
        "for col in columns_to_encode:\n",
        "  df[col] = LabelEncoder().fit_transform(df[col])\n",
        "\n",
        "df.head(2)"
      ],
      "execution_count": 2,
      "outputs": [
        {
          "output_type": "execute_result",
          "data": {
            "text/html": [
              "<div>\n",
              "<style scoped>\n",
              "    .dataframe tbody tr th:only-of-type {\n",
              "        vertical-align: middle;\n",
              "    }\n",
              "\n",
              "    .dataframe tbody tr th {\n",
              "        vertical-align: top;\n",
              "    }\n",
              "\n",
              "    .dataframe thead th {\n",
              "        text-align: right;\n",
              "    }\n",
              "</style>\n",
              "<table border=\"1\" class=\"dataframe\">\n",
              "  <thead>\n",
              "    <tr style=\"text-align: right;\">\n",
              "      <th></th>\n",
              "      <th>App</th>\n",
              "      <th>Review</th>\n",
              "      <th>Preprocessed_Review</th>\n",
              "      <th>Category</th>\n",
              "      <th>Average_Rating</th>\n",
              "      <th>Rating_Label</th>\n",
              "      <th>Num_Reviews</th>\n",
              "      <th>Size</th>\n",
              "      <th>Installs</th>\n",
              "      <th>Type</th>\n",
              "      <th>Price</th>\n",
              "      <th>Content Rating</th>\n",
              "      <th>Genres</th>\n",
              "      <th>Tokens</th>\n",
              "      <th>Sentiment</th>\n",
              "      <th>Neutral Proportion</th>\n",
              "      <th>Positive Proportion</th>\n",
              "      <th>Negative Proportion</th>\n",
              "      <th>Compound Score</th>\n",
              "      <th>Sentiment_Rating</th>\n",
              "    </tr>\n",
              "  </thead>\n",
              "  <tbody>\n",
              "    <tr>\n",
              "      <th>0</th>\n",
              "      <td>10 Best Foods for You</td>\n",
              "      <td>I like eat delicious food. That's I'm cooking ...</td>\n",
              "      <td>like delicious food cooking food case best foo...</td>\n",
              "      <td>15</td>\n",
              "      <td>0.608696</td>\n",
              "      <td>5</td>\n",
              "      <td>2490</td>\n",
              "      <td>0.038301</td>\n",
              "      <td>0.000499</td>\n",
              "      <td>Free</td>\n",
              "      <td>0.0</td>\n",
              "      <td>Everyone</td>\n",
              "      <td>29</td>\n",
              "      <td>['i', 'like', 'eat', 'delicious', 'food', 'tha...</td>\n",
              "      <td>Positive</td>\n",
              "      <td>0.466</td>\n",
              "      <td>0.534</td>\n",
              "      <td>0.0</td>\n",
              "      <td>0.9531</td>\n",
              "      <td>0.978082</td>\n",
              "    </tr>\n",
              "    <tr>\n",
              "      <th>1</th>\n",
              "      <td>10 Best Foods for You</td>\n",
              "      <td>This help eating healthy exercise regular basis</td>\n",
              "      <td>help eating healthy exercise regular basis</td>\n",
              "      <td>15</td>\n",
              "      <td>0.608696</td>\n",
              "      <td>4</td>\n",
              "      <td>2490</td>\n",
              "      <td>0.038301</td>\n",
              "      <td>0.000499</td>\n",
              "      <td>Free</td>\n",
              "      <td>0.0</td>\n",
              "      <td>Everyone</td>\n",
              "      <td>29</td>\n",
              "      <td>['this', 'help', 'eating', 'healthy', 'exercis...</td>\n",
              "      <td>Positive</td>\n",
              "      <td>0.481</td>\n",
              "      <td>0.519</td>\n",
              "      <td>0.0</td>\n",
              "      <td>0.6597</td>\n",
              "      <td>0.829908</td>\n",
              "    </tr>\n",
              "  </tbody>\n",
              "</table>\n",
              "</div>"
            ],
            "text/plain": [
              "                     App  ... Sentiment_Rating\n",
              "0  10 Best Foods for You  ...         0.978082\n",
              "1  10 Best Foods for You  ...         0.829908\n",
              "\n",
              "[2 rows x 20 columns]"
            ]
          },
          "metadata": {
            "tags": []
          },
          "execution_count": 2
        }
      ]
    },
    {
      "cell_type": "code",
      "metadata": {
        "id": "19fbpAOajJgz",
        "colab_type": "code",
        "colab": {
          "base_uri": "https://localhost:8080/",
          "height": 344
        },
        "outputId": "d971c817-464b-475c-fc41-a4a10d487910"
      },
      "source": [
        "from sklearn import preprocessing\n",
        "min_max_scaler = preprocessing.MinMaxScaler()\n",
        "from sklearn.preprocessing import LabelEncoder, OneHotEncoder\n",
        "\n",
        "columns_to_normalize = [\"Average_Rating\", \"Installs\", \"Price\", \"Size\", \"Sentiment_Rating\"]\n",
        "for col in columns_to_normalize:\n",
        "  data_scaled = min_max_scaler.fit_transform(df[col].to_numpy().reshape(-1,1))\n",
        "  df[col] = data_scaled\n",
        "\n",
        "columns_to_encode = [\"Category\", \"Genres\"]\n",
        "for col in columns_to_encode:\n",
        "  df[col] = LabelEncoder().fit_transform(df[col])\n",
        "\n",
        "df.head(2)"
      ],
      "execution_count": 3,
      "outputs": [
        {
          "output_type": "execute_result",
          "data": {
            "text/html": [
              "<div>\n",
              "<style scoped>\n",
              "    .dataframe tbody tr th:only-of-type {\n",
              "        vertical-align: middle;\n",
              "    }\n",
              "\n",
              "    .dataframe tbody tr th {\n",
              "        vertical-align: top;\n",
              "    }\n",
              "\n",
              "    .dataframe thead th {\n",
              "        text-align: right;\n",
              "    }\n",
              "</style>\n",
              "<table border=\"1\" class=\"dataframe\">\n",
              "  <thead>\n",
              "    <tr style=\"text-align: right;\">\n",
              "      <th></th>\n",
              "      <th>App</th>\n",
              "      <th>Review</th>\n",
              "      <th>Preprocessed_Review</th>\n",
              "      <th>Category</th>\n",
              "      <th>Average_Rating</th>\n",
              "      <th>Rating_Label</th>\n",
              "      <th>Num_Reviews</th>\n",
              "      <th>Size</th>\n",
              "      <th>Installs</th>\n",
              "      <th>Type</th>\n",
              "      <th>Price</th>\n",
              "      <th>Content Rating</th>\n",
              "      <th>Genres</th>\n",
              "      <th>Tokens</th>\n",
              "      <th>Sentiment</th>\n",
              "      <th>Neutral Proportion</th>\n",
              "      <th>Positive Proportion</th>\n",
              "      <th>Negative Proportion</th>\n",
              "      <th>Compound Score</th>\n",
              "      <th>Sentiment_Rating</th>\n",
              "    </tr>\n",
              "  </thead>\n",
              "  <tbody>\n",
              "    <tr>\n",
              "      <th>0</th>\n",
              "      <td>10 Best Foods for You</td>\n",
              "      <td>I like eat delicious food. That's I'm cooking ...</td>\n",
              "      <td>like delicious food cooking food case best foo...</td>\n",
              "      <td>15</td>\n",
              "      <td>0.608696</td>\n",
              "      <td>5</td>\n",
              "      <td>2490</td>\n",
              "      <td>0.038301</td>\n",
              "      <td>0.000499</td>\n",
              "      <td>Free</td>\n",
              "      <td>0.0</td>\n",
              "      <td>Everyone</td>\n",
              "      <td>29</td>\n",
              "      <td>['i', 'like', 'eat', 'delicious', 'food', 'tha...</td>\n",
              "      <td>Positive</td>\n",
              "      <td>0.466</td>\n",
              "      <td>0.534</td>\n",
              "      <td>0.0</td>\n",
              "      <td>0.9531</td>\n",
              "      <td>0.978082</td>\n",
              "    </tr>\n",
              "    <tr>\n",
              "      <th>1</th>\n",
              "      <td>10 Best Foods for You</td>\n",
              "      <td>This help eating healthy exercise regular basis</td>\n",
              "      <td>help eating healthy exercise regular basis</td>\n",
              "      <td>15</td>\n",
              "      <td>0.608696</td>\n",
              "      <td>4</td>\n",
              "      <td>2490</td>\n",
              "      <td>0.038301</td>\n",
              "      <td>0.000499</td>\n",
              "      <td>Free</td>\n",
              "      <td>0.0</td>\n",
              "      <td>Everyone</td>\n",
              "      <td>29</td>\n",
              "      <td>['this', 'help', 'eating', 'healthy', 'exercis...</td>\n",
              "      <td>Positive</td>\n",
              "      <td>0.481</td>\n",
              "      <td>0.519</td>\n",
              "      <td>0.0</td>\n",
              "      <td>0.6597</td>\n",
              "      <td>0.829908</td>\n",
              "    </tr>\n",
              "  </tbody>\n",
              "</table>\n",
              "</div>"
            ],
            "text/plain": [
              "                     App  ... Sentiment_Rating\n",
              "0  10 Best Foods for You  ...         0.978082\n",
              "1  10 Best Foods for You  ...         0.829908\n",
              "\n",
              "[2 rows x 20 columns]"
            ]
          },
          "metadata": {
            "tags": []
          },
          "execution_count": 3
        }
      ]
    },
    {
      "cell_type": "code",
      "metadata": {
        "id": "8R94EIFvjOmP",
        "colab_type": "code",
        "colab": {
          "base_uri": "https://localhost:8080/",
          "height": 50
        },
        "outputId": "41c640e3-f09a-423b-e5f4-1ae01879a323"
      },
      "source": [
        "print(\"Number of apps that have reviews\")\n",
        "df[\"App\"].nunique()"
      ],
      "execution_count": 4,
      "outputs": [
        {
          "output_type": "stream",
          "text": [
            "Number of apps that have reviews\n"
          ],
          "name": "stdout"
        },
        {
          "output_type": "execute_result",
          "data": {
            "text/plain": [
              "531"
            ]
          },
          "metadata": {
            "tags": []
          },
          "execution_count": 4
        }
      ]
    },
    {
      "cell_type": "code",
      "metadata": {
        "id": "N9ZhnYJUjNXc",
        "colab_type": "code",
        "colab": {
          "base_uri": "https://localhost:8080/",
          "height": 33
        },
        "outputId": "cff1ff61-f500-4229-cc64-b213eb7f4c88"
      },
      "source": [
        "num_reviews_per_app = list(df.groupby([\"App\",\"Average_Rating\"]).size())\n",
        "min_num_reviews = int(np.percentile(num_reviews_per_app,25))\n",
        "#min_num_reviews = 0 # temporirily edited for debugging \n",
        "print(f\"25th percentile of the count of reviews :\", min_num_reviews)"
      ],
      "execution_count": 5,
      "outputs": [
        {
          "output_type": "stream",
          "text": [
            "25th percentile of the count of reviews : 26\n"
          ],
          "name": "stdout"
        }
      ]
    },
    {
      "cell_type": "code",
      "metadata": {
        "id": "TTGHJLuZjQcV",
        "colab_type": "code",
        "colab": {
          "base_uri": "https://localhost:8080/",
          "height": 33
        },
        "outputId": "c564e6d5-3e35-4a20-90c1-c5dbe5db71af"
      },
      "source": [
        "num_reviews_per_app = 28\n",
        "to_keep = df.App.value_counts()[df.App.value_counts() >= num_reviews_per_app].index\n",
        "print(\"Number of Apps that have at least \",num_reviews_per_app, \"reviews :\", len(to_keep))\n",
        "\n",
        "df = df[df.App.isin(to_keep)]"
      ],
      "execution_count": 7,
      "outputs": [
        {
          "output_type": "stream",
          "text": [
            "Number of Apps that have at least  28 reviews : 380\n"
          ],
          "name": "stdout"
        }
      ]
    },
    {
      "cell_type": "code",
      "metadata": {
        "id": "KlnVW2kmjRQ-",
        "colab_type": "code",
        "colab": {
          "base_uri": "https://localhost:8080/",
          "height": 50
        },
        "outputId": "5d66ee64-2c0c-423e-a9fd-6dcb30165fc3"
      },
      "source": [
        "unique_apps = to_keep\n",
        "\n",
        "print(\"Creating an array containing arrays of reviews of different apps\")\n",
        "reviews_by_app = [df[df[\"App\"] == unique_apps[i]][\"Preprocessed_Review\"].to_numpy() for i in range(len(to_keep))]\n",
        "reviews_by_app\n",
        "\n",
        "print(\"Creating an array containing the actual average rating of different apps\")\n",
        "avr_rating_per_app = [df[df[\"App\"] == unique_apps[i]][\"Average_Rating\"].to_numpy() for i in range(len(to_keep))]"
      ],
      "execution_count": 8,
      "outputs": [
        {
          "output_type": "stream",
          "text": [
            "Creating an array containing arrays of reviews of different apps\n",
            "Creating an array containing the actual average rating of different apps\n"
          ],
          "name": "stdout"
        }
      ]
    },
    {
      "cell_type": "code",
      "metadata": {
        "id": "FcCIx-vykUYX",
        "colab_type": "code",
        "colab": {
          "base_uri": "https://localhost:8080/",
          "height": 533
        },
        "outputId": "6434bdb7-2093-4786-cb6a-5125ab53c6c6"
      },
      "source": [
        "from tqdm import tqdm\n",
        "from gensim.models import doc2vec\n",
        "from sklearn import utils\n",
        "import gensim\n",
        "from gensim.models.doc2vec import TaggedDocument \n",
        "import re\n",
        "\n",
        "def get_vectors(model,corpus_size,vectors_size,index):\n",
        "    vectors = np.zeros((corpus_size,vectors_size))\n",
        "    for i in range(0,corpus_size):\n",
        "        prefix = str(i)\n",
        "        vectors[i] = model.docvecs[prefix]\n",
        "    return vectors[index] \n",
        "\n",
        "def label_sentences(corpus):\n",
        "    labeled = []\n",
        "    for i, v in enumerate(corpus):\n",
        "        label = str(i)\n",
        "        labeled.append(doc2vec.TaggedDocument(v,[label]))\n",
        "    return labeled\n",
        "\n",
        "vector_size = 300\n",
        "all_data = label_sentences(df.Tokens)\n",
        "model_dbow = gensim.models.Doc2Vec(dm = 0,vector_size = vector_size, negative = 5,min_count =1,alpha = 0.065)\n",
        "model_dbow.build_vocab([x for x in tqdm(all_data)])\n",
        "\n",
        "for epoch in range(30):\n",
        "    model_dbow.train(utils.shuffle([x for x in tqdm(all_data)]),total_examples = len(all_data),epochs = 1)\n",
        "    model_dbow.alpha -=0.002\n",
        "    model_dbow.min_alpha = model_dbow.alpha"
      ],
      "execution_count": 9,
      "outputs": [
        {
          "output_type": "stream",
          "text": [
            "100%|██████████| 15457/15457 [00:00<00:00, 2313340.12it/s]\n",
            "100%|██████████| 15457/15457 [00:00<00:00, 2538921.36it/s]\n",
            "100%|██████████| 15457/15457 [00:00<00:00, 3205505.90it/s]\n",
            "100%|██████████| 15457/15457 [00:00<00:00, 3368212.64it/s]\n",
            "100%|██████████| 15457/15457 [00:00<00:00, 3397335.69it/s]\n",
            "100%|██████████| 15457/15457 [00:00<00:00, 3326390.81it/s]\n",
            "100%|██████████| 15457/15457 [00:00<00:00, 1829120.78it/s]\n",
            "100%|██████████| 15457/15457 [00:00<00:00, 3348727.11it/s]\n",
            "100%|██████████| 15457/15457 [00:00<00:00, 2265721.57it/s]\n",
            "100%|██████████| 15457/15457 [00:00<00:00, 2170450.52it/s]\n",
            "100%|██████████| 15457/15457 [00:00<00:00, 2456012.31it/s]\n",
            "100%|██████████| 15457/15457 [00:00<00:00, 3248715.02it/s]\n",
            "100%|██████████| 15457/15457 [00:00<00:00, 3262775.89it/s]\n",
            "100%|██████████| 15457/15457 [00:00<00:00, 2349983.94it/s]\n",
            "100%|██████████| 15457/15457 [00:00<00:00, 2097559.11it/s]\n",
            "100%|██████████| 15457/15457 [00:00<00:00, 2152221.12it/s]\n",
            "100%|██████████| 15457/15457 [00:00<00:00, 3399295.14it/s]\n",
            "100%|██████████| 15457/15457 [00:00<00:00, 3436958.96it/s]\n",
            "100%|██████████| 15457/15457 [00:00<00:00, 1846205.63it/s]\n",
            "100%|██████████| 15457/15457 [00:00<00:00, 1291435.57it/s]\n",
            "100%|██████████| 15457/15457 [00:00<00:00, 2015775.04it/s]\n",
            "100%|██████████| 15457/15457 [00:00<00:00, 2112045.77it/s]\n",
            "100%|██████████| 15457/15457 [00:00<00:00, 2134295.40it/s]\n",
            "100%|██████████| 15457/15457 [00:00<00:00, 2200358.30it/s]\n",
            "100%|██████████| 15457/15457 [00:00<00:00, 2049614.52it/s]\n",
            "100%|██████████| 15457/15457 [00:00<00:00, 3403220.84it/s]\n",
            "100%|██████████| 15457/15457 [00:00<00:00, 1950871.36it/s]\n",
            "100%|██████████| 15457/15457 [00:00<00:00, 2586219.76it/s]\n",
            "100%|██████████| 15457/15457 [00:00<00:00, 3369788.29it/s]\n",
            "100%|██████████| 15457/15457 [00:00<00:00, 2979656.08it/s]\n",
            "100%|██████████| 15457/15457 [00:00<00:00, 2514402.61it/s]\n"
          ],
          "name": "stderr"
        }
      ]
    },
    {
      "cell_type": "code",
      "metadata": {
        "id": "OcPx4WyQkYqR",
        "colab_type": "code",
        "colab": {
          "base_uri": "https://localhost:8080/",
          "height": 120
        },
        "outputId": "acef6f95-b3e4-40e6-e833-a4d0012a90cc"
      },
      "source": [
        "df['vectors'] = list(model_dbow.docvecs.vectors_docs)\n",
        "for i in range(0, len(df)):\n",
        "  df['vectors'][i] = pd.Series(model_dbow.docvecs.vectors_docs[i])"
      ],
      "execution_count": 11,
      "outputs": [
        {
          "output_type": "stream",
          "text": [
            "/usr/local/lib/python3.6/dist-packages/ipykernel_launcher.py:3: SettingWithCopyWarning: \n",
            "A value is trying to be set on a copy of a slice from a DataFrame\n",
            "\n",
            "See the caveats in the documentation: http://pandas.pydata.org/pandas-docs/stable/user_guide/indexing.html#returning-a-view-versus-a-copy\n",
            "  This is separate from the ipykernel package so we can avoid doing imports until\n"
          ],
          "name": "stderr"
        }
      ]
    },
    {
      "cell_type": "code",
      "metadata": {
        "id": "EcFH-dZ2kjiB",
        "colab_type": "code",
        "colab": {
          "base_uri": "https://localhost:8080/",
          "height": 33
        },
        "outputId": "2bef27ef-fc3c-4372-9fa6-d86c6c8bb39c"
      },
      "source": [
        "len(df['vectors'])"
      ],
      "execution_count": 12,
      "outputs": [
        {
          "output_type": "execute_result",
          "data": {
            "text/plain": [
              "21429"
            ]
          },
          "metadata": {
            "tags": []
          },
          "execution_count": 12
        }
      ]
    },
    {
      "cell_type": "code",
      "metadata": {
        "id": "07EH217dlD7t",
        "colab_type": "code",
        "colab": {
          "base_uri": "https://localhost:8080/",
          "height": 33
        },
        "outputId": "4d107fc6-3865-4609-a962-e243b2111a6c"
      },
      "source": [
        "df['Tagged_Document'] = all_data\n",
        "print(\"Creating an array containing arrays of vectors of different apps\")\n",
        "df[\"vectors\"].dropna(inplace=True)\n",
        "vectors_by_app = [df[df[\"App\"] == unique_apps[i]][\"vectors\"].to_numpy() for i in range(len(to_keep))]"
      ],
      "execution_count": 14,
      "outputs": [
        {
          "output_type": "stream",
          "text": [
            "Creating an array containing arrays of vectors of different apps\n"
          ],
          "name": "stdout"
        }
      ]
    },
    {
      "cell_type": "code",
      "metadata": {
        "id": "jKIoB-qIlHB3",
        "colab_type": "code",
        "colab": {}
      },
      "source": [
        "class TextVectorDataset(Dataset):\n",
        "  global num_reviews_per_app\n",
        "  def __init__(self, x, y):\n",
        "    self.samples = x\n",
        "    self.labels = y\n",
        "  \n",
        "  def __len__(self):\n",
        "    return len(self.samples)\n",
        "  \n",
        "  def __getitem__(self,idx):\n",
        "    item = self.samples[idx]\n",
        "    item = np.random.choice(item, size=num_reviews_per_app) # sampling 28 reviews from each app\n",
        "    print(type(item))\n",
        "    label = self.labels[idx][0]\n",
        "    print(label)\n",
        "    return tensor(item, dtype=torch.float), tensor(label, dtype=torch.float)\n",
        "\n",
        "x = vectors_by_app # vectors_per_app\n",
        "y = avr_rating_per_app\n",
        "\n",
        "train_size = int(0.7*len(x))\n",
        "val_size = len(x) - train_size\n",
        "\n",
        "data = TextVectorDataset(x, y)\n",
        "trainset, valset = random_split(data, [train_size, val_size])\n",
        "\n",
        "BATCH_SIZE = 50\n",
        "train_dataloader = DataLoader(trainset, batch_size=BATCH_SIZE, shuffle=True)\n",
        "val_dataloader = DataLoader(valset, batch_size=BATCH_SIZE, shuffle=True)\n",
        "\n",
        "print(\"Training dataloader has \", len(train_dataloader), \"batches of \", BATCH_SIZE)\n",
        "print(\"Validation dataloader has \", len(val_dataloader), \"batches of \", BATCH_SIZE)\n",
        "for batch_idx, samples in enumerate(train_dataloader):\n",
        "  # print(batch_idx)\n",
        "  print(samples)"
      ],
      "execution_count": 0,
      "outputs": []
    },
    {
      "cell_type": "code",
      "metadata": {
        "id": "czXBtAsSlLz_",
        "colab_type": "code",
        "colab": {}
      },
      "source": [
        "INPUT_SIZE = 1 # currently vector shape not consistent as indicated\n",
        "EMBED_SIZE = vector_size\n",
        "OUTPUT_SIZE = 1 # regression to reach average rating\n",
        "HIDDEN_SIZE = 100 # arbitrary\n",
        "learning_rate = 0.2\n",
        "\n",
        "class VectorNet(nn.Module):\n",
        "  def __init__(self, input_size, embed_dim, output_size):\n",
        "        super(VectorNet, self).__init__()\n",
        "        self.embedding = nn.EmbeddingBag(input_size, embed_dim, sparse=True)\n",
        "        self.fc = nn.Linear(embed_dim, output_size)\n",
        "        self.init_weights()\n",
        "\n",
        "  def init_weights(self):\n",
        "        initrange = 0.5\n",
        "        self.embedding.weight.data.uniform_(-initrange, initrange)\n",
        "        self.fc.weight.data.uniform_(-initrange, initrange)\n",
        "        self.fc.bias.data.zero_()\n",
        "\n",
        "  def forward(self, text, offsets):\n",
        "        embedded = self.embedding(text, offsets)\n",
        "        return self.fc(embedded)\n",
        "\n",
        "net = VectorNet(input_size=INPUT_SIZE, embed_dim = vector_size, output_size=OUTPUT_SIZE)\n",
        "optimizer = optim.Adam(net.parameters(), lr=learning_rate)\n",
        "loss_func = nn.MSELoss()\n",
        "\n",
        "num_epochs = 100\n",
        "losses = []\n",
        "for i in range(num_epochs):\n",
        "  for batch_idx, samples in enumerate(train_dataloader):\n",
        "    print(samples)\n",
        "    x,y = samples\n",
        "\n",
        "    prediction = net(x)\n",
        "    loss = loss_func(prediction, y)\n",
        "    optimizer.zero_grad()   # clear gradients for next train\n",
        "    loss.backward()         # backpropagation, compute gradients\n",
        "    optimizer.step()        # apply gradients\n",
        "\n",
        "    # for plotting\n",
        "  if i % 10 == 0:\n",
        "      print(\"Epoch \", i, \", Loss: \", loss)\n",
        "  losses.append(loss)\n",
        "  prediction = 0\n",
        "\n",
        "plt.xlabel(\"Epoch\")\n",
        "plt.ylabel(\"Loss\")\n",
        "plt.plot(range(len(losses)),losses)"
      ],
      "execution_count": 0,
      "outputs": []
    }
  ]
}